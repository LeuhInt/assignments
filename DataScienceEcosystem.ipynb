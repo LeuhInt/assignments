{
 "cells": [
  {
   "cell_type": "markdown",
   "source": [
    "# Data Science Tools and Ecosystem # "
   ],
   "metadata": {
    "collapsed": false
   },
   "id": "c247c5bbc6ac9ef6"
  },
  {
   "cell_type": "markdown",
   "source": [
    "In this notebook, Data Science Tools and Ecosystem are summarized."
   ],
   "metadata": {
    "collapsed": false
   },
   "id": "3e48f52a90b8bf38"
  },
  {
   "cell_type": "markdown",
   "source": [
    "__Objectives__\n",
    "- List popular languages for Data Science\n",
    "- List popular libraries for Data Science\n",
    "- Indicate development environment open source for Data Science\n",
    "- Show examples of arithmetic expressions in Python"
   ],
   "metadata": {
    "collapsed": false
   },
   "id": "219b242206a6d8e1"
  },
  {
   "cell_type": "markdown",
   "source": [
    "Some of the popular languages that Data Scientists use are:\n",
    "1. Python\n",
    "2. R\n",
    "3. Julia"
   ],
   "metadata": {
    "collapsed": false
   },
   "id": "40bc06c73f191702"
  },
  {
   "cell_type": "markdown",
   "source": [
    "Some of the commonly used libraries used by Data Scientists include:\n",
    "1. Pandas\n",
    "2. Numpy\n",
    "3. Matplotlib\n",
    "4. Scikit-learn\n",
    "5. Tensorflow"
   ],
   "metadata": {
    "collapsed": false
   },
   "id": "47032c15ecaf74d9"
  },
  {
   "cell_type": "markdown",
   "source": [
    "| Data Science Tools |\n",
    "|--------------------|\n",
    "| Jupyter Notebooks  |\n",
    "| RStudio            |\n",
    "| Apache Zeppelin    |"
   ],
   "metadata": {
    "collapsed": false
   },
   "id": "245051fdc9327139"
  },
  {
   "cell_type": "markdown",
   "source": [
    "### Below are a few examples of evaluating arithmetic expression in python  ###"
   ],
   "metadata": {
    "collapsed": false
   },
   "id": "67ffa2da0512fe72"
  },
  {
   "cell_type": "code",
   "outputs": [
    {
     "data": {
      "text/plain": "17"
     },
     "execution_count": 8,
     "metadata": {},
     "output_type": "execute_result"
    }
   ],
   "source": [
    "(3*4)+5    # This is a simple arithmetic expression to multiply the add integer"
   ],
   "metadata": {
    "collapsed": false,
    "ExecuteTime": {
     "end_time": "2024-01-10T08:01:26.576887200Z",
     "start_time": "2024-01-10T08:01:26.567541800Z"
    }
   },
   "id": "ec6f8eec84d7db4c",
   "execution_count": 8
  },
  {
   "cell_type": "code",
   "outputs": [
    {
     "data": {
      "text/plain": "3.3333333333333335"
     },
     "execution_count": 9,
     "metadata": {},
     "output_type": "execute_result"
    }
   ],
   "source": [
    "200 / 60   # This will convert 200 minutes to hours by dividing by 60"
   ],
   "metadata": {
    "collapsed": false,
    "ExecuteTime": {
     "end_time": "2024-01-10T08:01:26.675315100Z",
     "start_time": "2024-01-10T08:01:26.665868700Z"
    }
   },
   "id": "2166927ff955f06b",
   "execution_count": 9
  },
  {
   "cell_type": "markdown",
   "source": [
    "## Author ##\n",
    "Leonardo dos Santos Silva"
   ],
   "metadata": {
    "collapsed": false
   },
   "id": "930f84b061885b89"
  },
  {
   "cell_type": "code",
   "outputs": [],
   "source": [],
   "metadata": {
    "collapsed": false,
    "ExecuteTime": {
     "end_time": "2024-01-10T08:01:27.011393100Z",
     "start_time": "2024-01-10T08:01:26.993737200Z"
    }
   },
   "id": "487355cdf2ca0ae0",
   "execution_count": 9
  },
  {
   "cell_type": "code",
   "outputs": [],
   "source": [],
   "metadata": {
    "collapsed": false,
    "ExecuteTime": {
     "end_time": "2024-01-10T08:01:27.158224900Z",
     "start_time": "2024-01-10T08:01:27.143487100Z"
    }
   },
   "id": "8dbd6d33a0daa39b",
   "execution_count": 9
  },
  {
   "cell_type": "code",
   "outputs": [],
   "source": [],
   "metadata": {
    "collapsed": false,
    "ExecuteTime": {
     "end_time": "2024-01-10T08:01:27.291401400Z",
     "start_time": "2024-01-10T08:01:27.278303400Z"
    }
   },
   "id": "e203374b288546e6",
   "execution_count": 9
  },
  {
   "cell_type": "code",
   "outputs": [],
   "source": [],
   "metadata": {
    "collapsed": false
   },
   "id": "77168f4d7fc0f2df"
  }
 ],
 "metadata": {
  "kernelspec": {
   "display_name": "Python 3",
   "language": "python",
   "name": "python3"
  },
  "language_info": {
   "codemirror_mode": {
    "name": "ipython",
    "version": 2
   },
   "file_extension": ".py",
   "mimetype": "text/x-python",
   "name": "python",
   "nbconvert_exporter": "python",
   "pygments_lexer": "ipython2",
   "version": "2.7.6"
  }
 },
 "nbformat": 4,
 "nbformat_minor": 5
}
