{
 "cells": [
  {
   "cell_type": "code",
   "outputs": [],
   "source": [
    "# Imports\n",
    "import yfinance as yf\n",
    "import plotly.graph_objects as go\n",
    "from plotly.subplots import make_subplots\n",
    "import requests\n",
    "import pandas as pd"
   ],
   "metadata": {
    "collapsed": false
   },
   "id": "7c7e072efdef935c",
   "execution_count": null
  },
  {
   "cell_type": "code",
   "outputs": [],
   "source": [
    "# Objects\n",
    "gme = yf.Ticker('GME')\n",
    "\n",
    "# Extracting data\n",
    "gme_data = gme.history(period='max')\n",
    "\n",
    "# Resetting index\n",
    "gme_data = gme_data.reset_index()\n",
    "\n",
    "# Visualization\n",
    "gme_data.head()"
   ],
   "metadata": {
    "collapsed": false
   },
   "id": "c4b1f1792ac99ada",
   "execution_count": null
  },
  {
   "cell_type": "code",
   "outputs": [],
   "source": [
    "# Requesting\n",
    "url = 'https://cf-courses-data.s3.us.cloud-object-storage.appdomain.cloud/IBMDeveloperSkillsNetwork-PY0220EN-SkillsNetwork/labs/project/stock.html'\n",
    "response = requests.get(url)\n",
    "# %%\n",
    "# Extracting data\n",
    "read_html_pandas_data = pd.read_html(url)\n",
    "gme_revenue = read_html_pandas_data[0]\n",
    "# %%\n",
    "# Visualization\n",
    "gme_revenue.tail()"
   ],
   "metadata": {
    "collapsed": false
   },
   "id": "81e319530a454507",
   "execution_count": null
  },
  {
   "cell_type": "code",
   "outputs": [],
   "source": [
    "def make_graph(stock_data, revenue_data, stock):\n",
    "    fig = make_subplots(rows=2, cols=1, shared_xaxes=True,\n",
    "                        subplot_titles=(\"Historical Share Price\", \"Historical Revenue\"), vertical_spacing=.3)\n",
    "    stock_data_specific = stock_data[stock_data.Date <= '2021--06-14']\n",
    "    revenue_data_specific = revenue_data[revenue_data.Date <= '2021-04-30']\n",
    "    fig.add_trace(go.Scatter(x=pd.to_datetime(stock_data_specific.Date, infer_datetime_format=True),\n",
    "                             y=stock_data_specific.Close.astype(\"float\"), name=\"Share Price\"), row=1, col=1)\n",
    "    fig.add_trace(go.Scatter(x=pd.to_datetime(revenue_data_specific.Date, infer_datetime_format=True),\n",
    "                             y=revenue_data_specific.Revenue.astype(\"float\"), name=\"Revenue\"), row=2, col=1)\n",
    "    fig.update_xaxes(title_text=\"Date\", row=1, col=1)\n",
    "    fig.update_xaxes(title_text=\"Date\", row=2, col=1)\n",
    "    fig.update_yaxes(title_text=\"Price ($US)\", row=1, col=1)\n",
    "    fig.update_yaxes(title_text=\"Revenue ($US Millions)\", row=2, col=1)\n",
    "    fig.update_layout(showlegend=False,\n",
    "                      height=700,\n",
    "                      title=stock,\n",
    "                      xaxis_rangeslider_visible=True)\n",
    "    fig.show()\n"
   ],
   "metadata": {
    "collapsed": false
   },
   "id": "2befaeca0b5e7889",
   "execution_count": null
  },
  {
   "cell_type": "code",
   "outputs": [],
   "source": [
    "gme_revenue.rename(columns={'GameStop Annual Revenue (Millions of US $)': 'Date',\n",
    "                            'GameStop Annual Revenue (Millions of US $).1': 'Revenue'}, inplace=True)\n",
    "gme_revenue[\"Revenue\"] = gme_revenue['Revenue'].str.replace('$', '')\n",
    "\n",
    "gme_revenue[\"Revenue\"] = gme_revenue['Revenue'].str.replace(',', '')\n",
    "gme_revenue['Revenue'] = gme_revenue['Revenue'].astype(int)\n",
    "\n",
    "gme_revenue['Date'] = pd.to_datetime(gme_revenue['Date'])\n"
   ],
   "metadata": {
    "collapsed": false,
    "ExecuteTime": {
     "end_time": "2024-01-16T15:07:59.474464200Z",
     "start_time": "2024-01-16T15:07:53.789138100Z"
    }
   },
   "id": "36b79ac6d7c42537",
   "execution_count": 3
  },
  {
   "cell_type": "code",
   "outputs": [
    {
     "ename": "TypeError",
     "evalue": "make_graph() missing 1 required positional argument: 'stock'",
     "output_type": "error",
     "traceback": [
      "\u001B[1;31m---------------------------------------------------------------------------\u001B[0m",
      "\u001B[1;31mTypeError\u001B[0m                                 Traceback (most recent call last)",
      "Cell \u001B[1;32mIn[5], line 1\u001B[0m\n\u001B[1;32m----> 1\u001B[0m make_graph(gme_data, \u001B[38;5;124m'\u001B[39m\u001B[38;5;124mGameStop\u001B[39m\u001B[38;5;124m'\u001B[39m)\n",
      "\u001B[1;31mTypeError\u001B[0m: make_graph() missing 1 required positional argument: 'stock'"
     ]
    }
   ],
   "source": [
    "make_graph(gme_data, 'GameStop')"
   ],
   "metadata": {
    "collapsed": false,
    "ExecuteTime": {
     "end_time": "2024-01-16T15:09:49.870589500Z",
     "start_time": "2024-01-16T15:09:46.673597200Z"
    }
   },
   "id": "b13464e8103cf3ba",
   "execution_count": 5
  },
  {
   "cell_type": "code",
   "outputs": [],
   "source": [],
   "metadata": {
    "collapsed": false
   },
   "id": "d81f1824d986012a"
  }
 ],
 "metadata": {
  "kernelspec": {
   "display_name": "Python 3",
   "language": "python",
   "name": "python3"
  },
  "language_info": {
   "codemirror_mode": {
    "name": "ipython",
    "version": 2
   },
   "file_extension": ".py",
   "mimetype": "text/x-python",
   "name": "python",
   "nbconvert_exporter": "python",
   "pygments_lexer": "ipython2",
   "version": "2.7.6"
  }
 },
 "nbformat": 4,
 "nbformat_minor": 5
}
